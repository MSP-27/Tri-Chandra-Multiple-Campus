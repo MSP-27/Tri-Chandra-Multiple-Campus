{
 "cells": [
  {
   "cell_type": "markdown",
   "metadata": {},
   "source": [
    "# August 16 2020, Second Class"
   ]
  },
  {
   "cell_type": "markdown",
   "metadata": {},
   "source": [
    "## List"
   ]
  },
  {
   "cell_type": "code",
   "execution_count": 1,
   "metadata": {},
   "outputs": [
    {
     "name": "stdout",
     "output_type": "stream",
     "text": [
      "[]\n"
     ]
    }
   ],
   "source": [
    "L=[]\n",
    "print(L)"
   ]
  },
  {
   "cell_type": "code",
   "execution_count": 7,
   "metadata": {},
   "outputs": [
    {
     "name": "stdout",
     "output_type": "stream",
     "text": [
      "[300, 33, 302, 4, 5, 6, 7, 8, 9]\n"
     ]
    }
   ],
   "source": [
    "L=[300,33,302,4,5,6,7,8,9]\n",
    "print(L)"
   ]
  },
  {
   "cell_type": "markdown",
   "metadata": {},
   "source": [
    "- indexing "
   ]
  },
  {
   "cell_type": "markdown",
   "metadata": {},
   "source": [
    "- index starts from zero "
   ]
  },
  {
   "cell_type": "code",
   "execution_count": 17,
   "metadata": {},
   "outputs": [
    {
     "data": {
      "text/plain": [
       "(300, 33, 302, 9, 300, 300, 9)"
      ]
     },
     "execution_count": 17,
     "metadata": {},
     "output_type": "execute_result"
    }
   ],
   "source": [
    "L[0],L[1],L[2],L[-1], L[-0],L[-9],L[8]"
   ]
  },
  {
   "cell_type": "markdown",
   "metadata": {},
   "source": [
    "-To add member from last"
   ]
  },
  {
   "cell_type": "code",
   "execution_count": 18,
   "metadata": {},
   "outputs": [
    {
     "name": "stdout",
     "output_type": "stream",
     "text": [
      "[300, 33, 302, 4, 5, 6, 7, 8, 9]\n"
     ]
    }
   ],
   "source": [
    "print(L)"
   ]
  },
  {
   "cell_type": "code",
   "execution_count": 21,
   "metadata": {},
   "outputs": [
    {
     "name": "stdout",
     "output_type": "stream",
     "text": [
      "[300, 33, 302, 4, 5, 6, 7, 8, 9, 101, 101, 101]\n"
     ]
    }
   ],
   "source": [
    "L.append(101)\n",
    "print(L)"
   ]
  },
  {
   "cell_type": "code",
   "execution_count": 22,
   "metadata": {},
   "outputs": [
    {
     "name": "stdout",
     "output_type": "stream",
     "text": [
      "[300, 33, 302, 4, 5, 4.5, 6, 7, 8, 9, 101, 101, 101]\n"
     ]
    }
   ],
   "source": [
    "L.insert(5,4.5)\n",
    "print(L)"
   ]
  },
  {
   "cell_type": "code",
   "execution_count": 23,
   "metadata": {},
   "outputs": [
    {
     "name": "stdout",
     "output_type": "stream",
     "text": [
      "[300, 33, 4, 5, 4.5, 6, 7, 8, 9, 101, 101, 101]\n"
     ]
    }
   ],
   "source": [
    "L.remove(302)\n",
    "print(L)"
   ]
  },
  {
   "cell_type": "code",
   "execution_count": 24,
   "metadata": {},
   "outputs": [
    {
     "name": "stdout",
     "output_type": "stream",
     "text": [
      "[300, 33, 4, 5, 4.5, 6, 7, 8, 9, 101, 101]\n"
     ]
    }
   ],
   "source": [
    "L.remove(101)\n",
    "print(L)"
   ]
  },
  {
   "cell_type": "code",
   "execution_count": 25,
   "metadata": {},
   "outputs": [
    {
     "name": "stdout",
     "output_type": "stream",
     "text": [
      "[300, 33, 4, 5, 6, 7, 8, 9, 101, 101]\n"
     ]
    }
   ],
   "source": [
    "L.pop(4)\n",
    "print(L)"
   ]
  },
  {
   "cell_type": "code",
   "execution_count": 36,
   "metadata": {},
   "outputs": [
    {
     "name": "stdout",
     "output_type": "stream",
     "text": [
      "[300, 33, 4, 5, 6, 7, 8, 101, 101]\n"
     ]
    }
   ],
   "source": [
    "L.pop(7)\n",
    "print(L)"
   ]
  },
  {
   "cell_type": "code",
   "execution_count": 39,
   "metadata": {},
   "outputs": [
    {
     "name": "stdout",
     "output_type": "stream",
     "text": [
      "[33, 4, 5, 6, 7, 8, 101, 101, 300]\n"
     ]
    }
   ],
   "source": [
    "L.append(300)\n",
    "print(L)"
   ]
  },
  {
   "cell_type": "markdown",
   "metadata": {},
   "source": [
    "- List of list "
   ]
  },
  {
   "cell_type": "code",
   "execution_count": 26,
   "metadata": {},
   "outputs": [
    {
     "name": "stdout",
     "output_type": "stream",
     "text": [
      "[[1, 2, 3], [2, 3, 4], [4, 5, 6, 7, 8, 9], [1, 2]]\n"
     ]
    }
   ],
   "source": [
    "A = [[1,2,3],[2,3,4],[4,5,6,7,8,9],[1,2]]\n",
    "print(A)"
   ]
  },
  {
   "cell_type": "markdown",
   "metadata": {},
   "source": [
    "- How to index list of list "
   ]
  },
  {
   "cell_type": "code",
   "execution_count": 28,
   "metadata": {},
   "outputs": [
    {
     "data": {
      "text/plain": [
       "(1, 2, 3, 2, 3, 4, 1, 2)"
      ]
     },
     "execution_count": 28,
     "metadata": {},
     "output_type": "execute_result"
    }
   ],
   "source": [
    "A[0][0],A[0][1],A[0][2],A[1][0],A[1][1],A[1][2],A[3][0],A[3][1]"
   ]
  },
  {
   "cell_type": "markdown",
   "metadata": {},
   "source": [
    "- List Comprehension"
   ]
  },
  {
   "cell_type": "code",
   "execution_count": 40,
   "metadata": {},
   "outputs": [
    {
     "name": "stdout",
     "output_type": "stream",
     "text": [
      "[0, 1, 2, 3, 4, 5, 6, 7, 8, 9]\n"
     ]
    }
   ],
   "source": [
    "M=[x for x in range(10)]\n",
    "print(M)"
   ]
  },
  {
   "cell_type": "code",
   "execution_count": 44,
   "metadata": {},
   "outputs": [
    {
     "name": "stdout",
     "output_type": "stream",
     "text": [
      "[1, 2, 3, 4, 5, 6, 7, 8, 9]\n"
     ]
    }
   ],
   "source": [
    "M=[x for x in range(1,10)]\n",
    "print(M)"
   ]
  },
  {
   "cell_type": "code",
   "execution_count": 49,
   "metadata": {},
   "outputs": [
    {
     "name": "stdout",
     "output_type": "stream",
     "text": [
      "[5, 7, 9]\n"
     ]
    }
   ],
   "source": [
    "M=[x for x in range(5,10,2)] #(start, stop, step)\n",
    "print(M)"
   ]
  },
  {
   "cell_type": "code",
   "execution_count": 52,
   "metadata": {},
   "outputs": [
    {
     "name": "stdout",
     "output_type": "stream",
     "text": [
      "[20, 30, 40, 50, 60, 70, 80, 90]\n"
     ]
    }
   ],
   "source": [
    "N=[r for r in range(20,100,10)]\n",
    "print(N)"
   ]
  },
  {
   "cell_type": "code",
   "execution_count": 54,
   "metadata": {},
   "outputs": [
    {
     "name": "stdout",
     "output_type": "stream",
     "text": [
      "[0, 3, 6, 9, 12, 15, 18, 21, 24, 27, 30]\n"
     ]
    }
   ],
   "source": [
    "R = [i for i in range(31) if i%3==0]\n",
    "print(R)"
   ]
  },
  {
   "cell_type": "code",
   "execution_count": 58,
   "metadata": {},
   "outputs": [
    {
     "name": "stdout",
     "output_type": "stream",
     "text": [
      "[10, 20, 30, 40, 50, 60, 70, 80, 90, 100]\n"
     ]
    }
   ],
   "source": [
    "R = [i for i in range(10,101,5) if i%2==0]\n",
    "print(R)"
   ]
  },
  {
   "cell_type": "code",
   "execution_count": 59,
   "metadata": {},
   "outputs": [
    {
     "name": "stdout",
     "output_type": "stream",
     "text": [
      "[10, 15, 20, 25, 30, 35, 40, 45, 50, 55, 60, 65, 70, 75, 80, 85, 90, 95, 100]\n"
     ]
    }
   ],
   "source": [
    "R = [i for i in range(10,101,5)]\n",
    "print(R)"
   ]
  },
  {
   "cell_type": "code",
   "execution_count": 60,
   "metadata": {},
   "outputs": [
    {
     "name": "stdout",
     "output_type": "stream",
     "text": [
      "[10, 15, 20, 25, 30, 35, 40, 45, 50, 55, 60, 65, 70, 75, 80, 85, 90, 95, 100]\n"
     ]
    }
   ],
   "source": [
    "R = [i for i in range(10,101,5) if i%5==0]\n",
    "print(R)"
   ]
  },
  {
   "cell_type": "code",
   "execution_count": 90,
   "metadata": {},
   "outputs": [
    {
     "name": "stdout",
     "output_type": "stream",
     "text": [
      "[9, 6, 8, 4, 6, 5, 0, 7, 5, 1, 2, 8, 1, 0, 9, 7, 0, 10, 6, 10, 10, 8, 9, 6, 8, 4, 1, 1, 0, 8, 9, 6, 0, 2, 7, 4, 9, 5, 8, 4, 9, 9, 4, 7, 8, 9, 1, 4, 3, 7, 5, 9, 5, 4, 8, 4, 9, 5, 6, 8, 0, 10, 8, 10, 4, 4, 1, 6, 4, 10, 3, 6, 9, 6, 8, 3, 6, 1, 10, 7, 10, 1, 5, 5, 3, 10, 2, 2, 1, 6, 6, 9, 3, 7, 10, 0, 4, 10, 0, 9]\n"
     ]
    }
   ],
   "source": [
    "import random\n",
    "import collections as cl\n",
    "P = [random.randint(0,10) for k in range(100)]\n",
    "print(P)"
   ]
  },
  {
   "cell_type": "code",
   "execution_count": 91,
   "metadata": {},
   "outputs": [
    {
     "name": "stdout",
     "output_type": "stream",
     "text": [
      "Counter({9: 13, 6: 12, 4: 12, 8: 11, 10: 11, 1: 9, 5: 8, 0: 8, 7: 7, 3: 5, 2: 4})\n"
     ]
    }
   ],
   "source": [
    "C=cl.Counter(P)\n",
    "print(C)"
   ]
  },
  {
   "cell_type": "code",
   "execution_count": 95,
   "metadata": {},
   "outputs": [
    {
     "name": "stdout",
     "output_type": "stream",
     "text": [
      "['N', 'N', 'O', 'A', 'O', 'R', 'O', 'R', 'N', 'A', 'O', 'R', 'A', 'N', 'E', 'N', 'G', 'N', 'E', 'E', 'R', 'R', 'R', 'E', 'O', 'O', 'N', 'G', 'O', 'A', 'R', 'N', 'O', 'N', 'O', 'E', 'G', 'E', 'N', 'O', 'E', 'E', 'A', 'O', 'O', 'N', 'N', 'N', 'N', 'R', 'G', 'A', 'G', 'G', 'R', 'R', 'A', 'R', 'G', 'R', 'N', 'O', 'A', 'A', 'O', 'E', 'E', 'R', 'R', 'O', 'R', 'O', 'G', 'O', 'O', 'N', 'E', 'R', 'N', 'O', 'N', 'E', 'N', 'O', 'R', 'E', 'R', 'G', 'N', 'O', 'N', 'O', 'O', 'O', 'O', 'A', 'R', 'A', 'R', 'G', 'R', 'R', 'E', 'A', 'O', 'E', 'R', 'G', 'E', 'O', 'G', 'E', 'N', 'R', 'N', 'N', 'O', 'N', 'A', 'G', 'A', 'E', 'E', 'G', 'R', 'A', 'O', 'G', 'N', 'R', 'E', 'R', 'R', 'N', 'O', 'N', 'N', 'O', 'O', 'R', 'E', 'O', 'N', 'G', 'G', 'R', 'O', 'R', 'G', 'A', 'R', 'A', 'N', 'O', 'E', 'E', 'O', 'N', 'N', 'N', 'N', 'G', 'G', 'E', 'E', 'R', 'N', 'A', 'N', 'R', 'E', 'O', 'E', 'N', 'N', 'E', 'A', 'A', 'E', 'R', 'O', 'A', 'E', 'A', 'G', 'O', 'O', 'O', 'G', 'E', 'N', 'O', 'O', 'G', 'G', 'N', 'G', 'A', 'O', 'N']\n"
     ]
    }
   ],
   "source": [
    "Q = [random.choice(['O','R','A','N','G','E']) for i in range(200)]\n",
    "print(Q)"
   ]
  },
  {
   "cell_type": "code",
   "execution_count": 96,
   "metadata": {},
   "outputs": [
    {
     "name": "stdout",
     "output_type": "stream",
     "text": [
      "Counter({'O': 44, 'N': 42, 'R': 35, 'E': 31, 'G': 25, 'A': 23})\n"
     ]
    }
   ],
   "source": [
    "print(cl.Counter(Q))"
   ]
  },
  {
   "cell_type": "code",
   "execution_count": 98,
   "metadata": {},
   "outputs": [
    {
     "name": "stdout",
     "output_type": "stream",
     "text": [
      "NNOAORORNAORANENGNEERRREOONGOARNONOEGENOEEAOONNNNRGAGGRRARGRNOAAOEERROROGOONERNONENORERGNONOOOOARARGRREAOERGEOGENRNNONAGAEEGRAOGNRERRNONNOOREONGGRORGARANOEEONNNNGGEERNANREOENNEAAEROAEAGOOOGENOOGGNGAON\n"
     ]
    }
   ],
   "source": [
    "Orange=''.join(Q)\n",
    "print(Orange)"
   ]
  },
  {
   "cell_type": "code",
   "execution_count": 105,
   "metadata": {},
   "outputs": [
    {
     "data": {
      "text/plain": [
       "1"
      ]
     },
     "execution_count": 105,
     "metadata": {},
     "output_type": "execute_result"
    }
   ],
   "source": [
    "Orange.count('OOOO')"
   ]
  },
  {
   "cell_type": "code",
   "execution_count": 106,
   "metadata": {},
   "outputs": [
    {
     "data": {
      "text/plain": [
       "<matplotlib.legend.Legend at 0x62eb7c8>"
      ]
     },
     "execution_count": 106,
     "metadata": {},
     "output_type": "execute_result"
    },
    {
     "data": {
      "image/png": "[encoded data removed]",
      "text/plain": [
       "<Figure size 432x288 with 1 Axes>"
      ]
     },
     "metadata": {
      "needs_background": "light"
     },
     "output_type": "display_data"
    }
   ],
   "source": [
    "import numpy as np\n",
    "import matplotlib.pyplot as plt\n",
    "%matplotlib inline\n",
    "x= np.arange(-10,10,0.1)\n",
    "y1=30*np.sin(x)\n",
    "y2=30*np.cos(x)\n",
    "y3=0.5*np.tan(x)\n",
    "y4=2*x+1\n",
    "plt.plot(x,y1,label='sine')\n",
    "plt.plot(x,y2,label='cosine')\n",
    "plt.plot(x,y3,label='tan')\n",
    "plt.plot(x,y4,label='linear')\n",
    "plt.axhline(y=0)\n",
    "plt.axvline(x=0)\n",
    "plt.legend(fontsize=14)"
   ]
  },
  {
   "cell_type": "code",
   "execution_count": null,
   "metadata": {},
   "outputs": [],
   "source": []
  }
 ],
 "metadata": {
  "kernelspec": {
   "display_name": "Python 3",
   "language": "python",
   "name": "python3"
  },
  "language_info": {
   "codemirror_mode": {
    "name": "ipython",
    "version": 3
   },
   "file_extension": ".py",
   "mimetype": "text/x-python",
   "name": "python",
   "nbconvert_exporter": "python",
   "pygments_lexer": "ipython3",
   "version": "3.7.6"
  }
 },
 "nbformat": 4,
 "nbformat_minor": 4
}
